{
 "cells": [
  {
   "cell_type": "markdown",
   "metadata": {},
   "source": [
    "# Árbol de decisión con métodos de ensamble"
   ]
  },
  {
   "cell_type": "markdown",
   "metadata": {},
   "source": [
    "## Los datos"
   ]
  },
  {
   "cell_type": "code",
   "execution_count": 1,
   "metadata": {},
   "outputs": [],
   "source": [
    "import pandas as pd"
   ]
  },
  {
   "cell_type": "code",
   "execution_count": 2,
   "metadata": {},
   "outputs": [],
   "source": [
    "df = pd.DataFrame()\n",
    "make = [0,0.21,0.06,0,0,0,0,0,0.15,0.06,0,0,0,0,0,0,0,0,0,0,\n",
    "        0,0.05,0,0,0,0.05,0,0,0,0,1.17,0,0,0,0,0,0,0,0,0,\n",
    "        0.3,0,0,0,0,0.15,0.18,0.49,0.46,0.46,0,0,0,0,0,0,0,0,0,0,\n",
    "        0,0.9,0,0.08,0,0,0,0,0,0,0,0,0.18,0,0,0,0,0,0,0,0,0,0,0,\n",
    "        0.08,0,0,0,0,0,0,0,0,0.29,0.26,0,0,0,0,0]\n",
    "address = [0.64,0.28,0,0,0,0,0,0,0,0.12,0,0,0.69,0,0,0.42,0,\n",
    "           0,0,0.63,0,0.07,0,0,0,0.07,0,0,0,0,0,0,0,0,0.68,0,\n",
    "           0,0,0.48,0.41,0,0,0,0,0,0.45,0,0,0.3,0.46,0,0,0,0,\n",
    "           0,0,0,0,0,0,0,0,0,0,0,0,0,0,0,0,0.63,0,0.06,0,0,0,\n",
    "           0,0,0,0,0,0,0,0,0.16,0,0,0,0,0,0,0,1.28,0,0,0,0,0,0,0]\n",
    "capitalAve = [3.756,5.114,9.821,3.537,3.537,3,1.671,2.45,9.744,1.729,1.312,\n",
    "              1.243,3.728,2.083,1.971,5.659,4.652,35.461,1.32,3.509,3.833,\n",
    "              2.569,4.857,1.131,5.466,2.565,5.466,2.611,4,2.687,1.966,3.909,\n",
    "              1.39,1.7,3.826,2.777,4.142,5.431,3.1,3.851,2.132,4,4,1.283,2.145,\n",
    "              5.301,1.733,1.468,5.891,3.887,3.482,1.04,1,1.625,4.411,2.5,3.571,\n",
    "              1,1.75,2.285,10.012,2.766,2,2.324,1.8,2.38,2,3.388,1.75,1.444,\n",
    "              2.215,1.932,1.873,1,2.647,1.142,1.909,1,2.322,1.689,1.538,1.745,\n",
    "              1.437,2.51,2.747,3.125,2.848,1.538,2.813,2,1,3.195,1.952,2.847,\n",
    "              1.837,1.942,5.5,1.571,1,1]\n",
    "capitalLong = [61,101,485,40,40,15,4,11,445,43,6,11,61,7,24,55,31,\n",
    "               95,4,91,9,66,12,5,22,66,22,12,11,66,10,11,11,5,30,\n",
    "               6,12,78,61,121,30,12,12,4,38,130,12,8,193,40,5,2,1,\n",
    "               7,28,11,28,1,7,7,251,12,11,18,5,8,4,28,5,5,22,11,29,\n",
    "               1,16,2,5,1,11,10,4,12,3,12,86,17,26,4,121,7,1,21,10,\n",
    "               60,11,8,10,3,1,1]\n",
    "tipo = ['spam','spam','spam','spam','spam','spam','spam','spam','spam','spam',\n",
    "        'spam','spam','spam','spam','spam','spam','spam','spam','spam','spam',\n",
    "        'spam','spam','spam','spam','spam','spam','spam','spam','spam','spam',\n",
    "        'spam','spam','spam','spam','spam','spam','spam','spam','spam','spam',\n",
    "        'spam','spam','spam','spam','spam','spam','spam','spam','spam','spam',\n",
    "        'nonspam','nonspam','nonspam','nonspam','nonspam','nonspam','nonspam','nonspam','nonspam','nonspam',\n",
    "        'nonspam','nonspam','nonspam','nonspam','nonspam','nonspam','nonspam','nonspam','nonspam','nonspam',\n",
    "        'nonspam','nonspam','nonspam','nonspam','nonspam','nonspam','nonspam','nonspam','nonspam','nonspam',\n",
    "        'nonspam','nonspam','nonspam','nonspam','nonspam','nonspam','nonspam','nonspam','nonspam','nonspam',\n",
    "        'nonspam','nonspam','nonspam','nonspam','nonspam','nonspam','nonspam','nonspam','nonspam','nonspam']\n",
    "\n",
    "df['make'] = make\n",
    "df['address'] = address\n",
    "df['capitalAve'] = capitalAve\n",
    "df['capitalLong'] = capitalLong\n",
    "df['tipo'] = tipo"
   ]
  },
  {
   "cell_type": "code",
   "execution_count": 3,
   "metadata": {},
   "outputs": [
    {
     "data": {
      "text/html": [
       "<div>\n",
       "<style scoped>\n",
       "    .dataframe tbody tr th:only-of-type {\n",
       "        vertical-align: middle;\n",
       "    }\n",
       "\n",
       "    .dataframe tbody tr th {\n",
       "        vertical-align: top;\n",
       "    }\n",
       "\n",
       "    .dataframe thead th {\n",
       "        text-align: right;\n",
       "    }\n",
       "</style>\n",
       "<table border=\"1\" class=\"dataframe\">\n",
       "  <thead>\n",
       "    <tr style=\"text-align: right;\">\n",
       "      <th></th>\n",
       "      <th>make</th>\n",
       "      <th>address</th>\n",
       "      <th>capitalAve</th>\n",
       "      <th>capitalLong</th>\n",
       "      <th>tipo</th>\n",
       "    </tr>\n",
       "  </thead>\n",
       "  <tbody>\n",
       "    <tr>\n",
       "      <th>0</th>\n",
       "      <td>0.00</td>\n",
       "      <td>0.64</td>\n",
       "      <td>3.756</td>\n",
       "      <td>61</td>\n",
       "      <td>spam</td>\n",
       "    </tr>\n",
       "    <tr>\n",
       "      <th>1</th>\n",
       "      <td>0.21</td>\n",
       "      <td>0.28</td>\n",
       "      <td>5.114</td>\n",
       "      <td>101</td>\n",
       "      <td>spam</td>\n",
       "    </tr>\n",
       "    <tr>\n",
       "      <th>2</th>\n",
       "      <td>0.06</td>\n",
       "      <td>0.00</td>\n",
       "      <td>9.821</td>\n",
       "      <td>485</td>\n",
       "      <td>spam</td>\n",
       "    </tr>\n",
       "  </tbody>\n",
       "</table>\n",
       "</div>"
      ],
      "text/plain": [
       "   make  address  capitalAve  capitalLong  tipo\n",
       "0  0.00     0.64       3.756           61  spam\n",
       "1  0.21     0.28       5.114          101  spam\n",
       "2  0.06     0.00       9.821          485  spam"
      ]
     },
     "execution_count": 3,
     "metadata": {},
     "output_type": "execute_result"
    }
   ],
   "source": [
    "df.head(3)"
   ]
  },
  {
   "cell_type": "code",
   "execution_count": 4,
   "metadata": {},
   "outputs": [
    {
     "name": "stdout",
     "output_type": "stream",
     "text": [
      "<class 'pandas.core.frame.DataFrame'>\n",
      "RangeIndex: 100 entries, 0 to 99\n",
      "Data columns (total 5 columns):\n",
      " #   Column       Non-Null Count  Dtype  \n",
      "---  ------       --------------  -----  \n",
      " 0   make         100 non-null    float64\n",
      " 1   address      100 non-null    float64\n",
      " 2   capitalAve   100 non-null    float64\n",
      " 3   capitalLong  100 non-null    int64  \n",
      " 4   tipo         100 non-null    object \n",
      "dtypes: float64(3), int64(1), object(1)\n",
      "memory usage: 4.0+ KB\n"
     ]
    }
   ],
   "source": [
    "df.info()"
   ]
  },
  {
   "cell_type": "code",
   "execution_count": 5,
   "metadata": {},
   "outputs": [],
   "source": [
    "import numpy as np"
   ]
  },
  {
   "cell_type": "code",
   "execution_count": 6,
   "metadata": {},
   "outputs": [],
   "source": [
    "df['tipo'] = np.where(df['tipo'] == 'spam', 1, 0)"
   ]
  },
  {
   "cell_type": "code",
   "execution_count": 7,
   "metadata": {},
   "outputs": [
    {
     "name": "stdout",
     "output_type": "stream",
     "text": [
      "Número de observaciones por clase\n",
      "0    50\n",
      "1    50\n",
      "Name: tipo, dtype: int64\n"
     ]
    }
   ],
   "source": [
    "print(\"Número de observaciones por clase\")\n",
    "print(df['tipo'].value_counts())"
   ]
  },
  {
   "cell_type": "code",
   "execution_count": 8,
   "metadata": {},
   "outputs": [
    {
     "name": "stdout",
     "output_type": "stream",
     "text": [
      "Porcentaje de observaciones por clase\n",
      "0    50.0\n",
      "1    50.0\n",
      "Name: tipo, dtype: float64\n"
     ]
    }
   ],
   "source": [
    "print(\"Porcentaje de observaciones por clase\")\n",
    "print(100 * df['tipo'].value_counts(normalize=True))"
   ]
  },
  {
   "cell_type": "code",
   "execution_count": 9,
   "metadata": {},
   "outputs": [
    {
     "data": {
      "text/html": [
       "<div>\n",
       "<style scoped>\n",
       "    .dataframe tbody tr th:only-of-type {\n",
       "        vertical-align: middle;\n",
       "    }\n",
       "\n",
       "    .dataframe tbody tr th {\n",
       "        vertical-align: top;\n",
       "    }\n",
       "\n",
       "    .dataframe thead th {\n",
       "        text-align: right;\n",
       "    }\n",
       "</style>\n",
       "<table border=\"1\" class=\"dataframe\">\n",
       "  <thead>\n",
       "    <tr style=\"text-align: right;\">\n",
       "      <th></th>\n",
       "      <th>make</th>\n",
       "      <th>address</th>\n",
       "      <th>capitalAve</th>\n",
       "      <th>capitalLong</th>\n",
       "      <th>tipo</th>\n",
       "    </tr>\n",
       "  </thead>\n",
       "  <tbody>\n",
       "    <tr>\n",
       "      <th>count</th>\n",
       "      <td>100.000000</td>\n",
       "      <td>100.000000</td>\n",
       "      <td>100.000000</td>\n",
       "      <td>100.000000</td>\n",
       "      <td>100.000000</td>\n",
       "    </tr>\n",
       "    <tr>\n",
       "      <th>mean</th>\n",
       "      <td>0.055800</td>\n",
       "      <td>0.078300</td>\n",
       "      <td>3.188160</td>\n",
       "      <td>37.150000</td>\n",
       "      <td>0.500000</td>\n",
       "    </tr>\n",
       "    <tr>\n",
       "      <th>std</th>\n",
       "      <td>0.172663</td>\n",
       "      <td>0.210291</td>\n",
       "      <td>3.708639</td>\n",
       "      <td>73.553303</td>\n",
       "      <td>0.502519</td>\n",
       "    </tr>\n",
       "    <tr>\n",
       "      <th>min</th>\n",
       "      <td>0.000000</td>\n",
       "      <td>0.000000</td>\n",
       "      <td>1.000000</td>\n",
       "      <td>1.000000</td>\n",
       "      <td>0.000000</td>\n",
       "    </tr>\n",
       "    <tr>\n",
       "      <th>25%</th>\n",
       "      <td>0.000000</td>\n",
       "      <td>0.000000</td>\n",
       "      <td>1.721750</td>\n",
       "      <td>6.000000</td>\n",
       "      <td>0.000000</td>\n",
       "    </tr>\n",
       "    <tr>\n",
       "      <th>50%</th>\n",
       "      <td>0.000000</td>\n",
       "      <td>0.000000</td>\n",
       "      <td>2.415000</td>\n",
       "      <td>12.000000</td>\n",
       "      <td>0.500000</td>\n",
       "    </tr>\n",
       "    <tr>\n",
       "      <th>75%</th>\n",
       "      <td>0.000000</td>\n",
       "      <td>0.000000</td>\n",
       "      <td>3.735000</td>\n",
       "      <td>32.750000</td>\n",
       "      <td>1.000000</td>\n",
       "    </tr>\n",
       "    <tr>\n",
       "      <th>max</th>\n",
       "      <td>1.170000</td>\n",
       "      <td>1.280000</td>\n",
       "      <td>35.461000</td>\n",
       "      <td>485.000000</td>\n",
       "      <td>1.000000</td>\n",
       "    </tr>\n",
       "  </tbody>\n",
       "</table>\n",
       "</div>"
      ],
      "text/plain": [
       "             make     address  capitalAve  capitalLong        tipo\n",
       "count  100.000000  100.000000  100.000000   100.000000  100.000000\n",
       "mean     0.055800    0.078300    3.188160    37.150000    0.500000\n",
       "std      0.172663    0.210291    3.708639    73.553303    0.502519\n",
       "min      0.000000    0.000000    1.000000     1.000000    0.000000\n",
       "25%      0.000000    0.000000    1.721750     6.000000    0.000000\n",
       "50%      0.000000    0.000000    2.415000    12.000000    0.500000\n",
       "75%      0.000000    0.000000    3.735000    32.750000    1.000000\n",
       "max      1.170000    1.280000   35.461000   485.000000    1.000000"
      ]
     },
     "execution_count": 9,
     "metadata": {},
     "output_type": "execute_result"
    }
   ],
   "source": [
    "df.describe()"
   ]
  },
  {
   "cell_type": "markdown",
   "metadata": {},
   "source": [
    "Preparación de datos"
   ]
  },
  {
   "cell_type": "code",
   "execution_count": 10,
   "metadata": {},
   "outputs": [],
   "source": [
    "from sklearn.model_selection import train_test_split"
   ]
  },
  {
   "cell_type": "code",
   "execution_count": 11,
   "metadata": {},
   "outputs": [],
   "source": [
    "X = df.drop(columns = ['tipo'])\n",
    "y = df['tipo']"
   ]
  },
  {
   "cell_type": "markdown",
   "metadata": {},
   "source": [
    "Conjunto de entrenamiento y de prueba"
   ]
  },
  {
   "cell_type": "code",
   "execution_count": 12,
   "metadata": {},
   "outputs": [],
   "source": [
    "X_train, X_test, y_train, y_test = train_test_split(X,\n",
    "                                                    y,\n",
    "                                                    train_size = 0.8,\n",
    "                                                    random_state = 42,\n",
    "                                                    shuffle = True\n",
    "                                                   )"
   ]
  },
  {
   "cell_type": "markdown",
   "metadata": {},
   "source": [
    "##### Bagging, con reemplazamiento"
   ]
  },
  {
   "cell_type": "markdown",
   "metadata": {},
   "source": [
    "Modelo"
   ]
  },
  {
   "cell_type": "code",
   "execution_count": 13,
   "metadata": {},
   "outputs": [],
   "source": [
    "from sklearn.tree import DecisionTreeClassifier\n",
    "from sklearn.ensemble import BaggingClassifier"
   ]
  },
  {
   "cell_type": "code",
   "execution_count": 14,
   "metadata": {},
   "outputs": [],
   "source": [
    "bag_clf = BaggingClassifier(DecisionTreeClassifier(random_state = 42),\n",
    "                            n_estimators = 500,\n",
    "                            max_samples = 75,\n",
    "                            bootstrap=True,\n",
    "                            random_state = 42\n",
    "                           )"
   ]
  },
  {
   "cell_type": "code",
   "execution_count": 15,
   "metadata": {},
   "outputs": [
    {
     "data": {
      "text/plain": [
       "BaggingClassifier(base_estimator=DecisionTreeClassifier(random_state=42),\n",
       "                  max_samples=75, n_estimators=500, random_state=42)"
      ]
     },
     "execution_count": 15,
     "metadata": {},
     "output_type": "execute_result"
    }
   ],
   "source": [
    "bag_clf.fit(X_train, y_train)"
   ]
  },
  {
   "cell_type": "code",
   "execution_count": 16,
   "metadata": {},
   "outputs": [],
   "source": [
    "y_pred = bag_clf.predict(X_test)"
   ]
  },
  {
   "cell_type": "code",
   "execution_count": 17,
   "metadata": {},
   "outputs": [],
   "source": [
    "from sklearn.metrics import accuracy_score"
   ]
  },
  {
   "cell_type": "code",
   "execution_count": 18,
   "metadata": {},
   "outputs": [
    {
     "name": "stdout",
     "output_type": "stream",
     "text": [
      "0.85\n"
     ]
    }
   ],
   "source": [
    "print(accuracy_score(y_test, y_pred))"
   ]
  },
  {
   "cell_type": "markdown",
   "metadata": {},
   "source": [
    "##### Pasting, sin reemplazamiento"
   ]
  },
  {
   "cell_type": "markdown",
   "metadata": {},
   "source": [
    "Modelo"
   ]
  },
  {
   "cell_type": "code",
   "execution_count": 19,
   "metadata": {},
   "outputs": [],
   "source": [
    "pas_clf = BaggingClassifier(DecisionTreeClassifier(random_state = 42),\n",
    "                            n_estimators = 500,\n",
    "                            max_samples = 75,\n",
    "                            bootstrap=False, \n",
    "                            random_state = 42\n",
    "                           )"
   ]
  },
  {
   "cell_type": "code",
   "execution_count": 20,
   "metadata": {},
   "outputs": [
    {
     "data": {
      "text/plain": [
       "BaggingClassifier(base_estimator=DecisionTreeClassifier(random_state=42),\n",
       "                  bootstrap=False, max_samples=75, n_estimators=500,\n",
       "                  random_state=42)"
      ]
     },
     "execution_count": 20,
     "metadata": {},
     "output_type": "execute_result"
    }
   ],
   "source": [
    "pas_clf.fit(X_train, y_train)"
   ]
  },
  {
   "cell_type": "code",
   "execution_count": 21,
   "metadata": {},
   "outputs": [],
   "source": [
    "y_pred_pas = pas_clf.predict(X_test)"
   ]
  },
  {
   "cell_type": "code",
   "execution_count": 22,
   "metadata": {},
   "outputs": [
    {
     "name": "stdout",
     "output_type": "stream",
     "text": [
      "0.9\n"
     ]
    }
   ],
   "source": [
    "print(accuracy_score(y_test, y_pred_pas))"
   ]
  },
  {
   "cell_type": "markdown",
   "metadata": {},
   "source": [
    "##### Random Forest"
   ]
  },
  {
   "cell_type": "markdown",
   "metadata": {},
   "source": [
    "Modelo"
   ]
  },
  {
   "cell_type": "code",
   "execution_count": 23,
   "metadata": {},
   "outputs": [],
   "source": [
    "from sklearn.ensemble import RandomForestClassifier"
   ]
  },
  {
   "cell_type": "code",
   "execution_count": 24,
   "metadata": {},
   "outputs": [],
   "source": [
    "rnd_clf = RandomForestClassifier(n_estimators = 500,\n",
    "                                 max_leaf_nodes = 4,\n",
    "                                 random_state = 42,\n",
    "                                 max_samples = 75\n",
    "                                )"
   ]
  },
  {
   "cell_type": "code",
   "execution_count": 25,
   "metadata": {},
   "outputs": [
    {
     "data": {
      "text/plain": [
       "RandomForestClassifier(max_leaf_nodes=4, max_samples=75, n_estimators=500,\n",
       "                       random_state=42)"
      ]
     },
     "execution_count": 25,
     "metadata": {},
     "output_type": "execute_result"
    }
   ],
   "source": [
    "rnd_clf.fit(X_train, y_train)"
   ]
  },
  {
   "cell_type": "code",
   "execution_count": 26,
   "metadata": {},
   "outputs": [],
   "source": [
    "y_pred_rf = rnd_clf.predict(X_test)"
   ]
  },
  {
   "cell_type": "code",
   "execution_count": 27,
   "metadata": {},
   "outputs": [
    {
     "name": "stdout",
     "output_type": "stream",
     "text": [
      "0.75\n"
     ]
    }
   ],
   "source": [
    "print(accuracy_score(y_test, y_pred_rf))"
   ]
  },
  {
   "cell_type": "markdown",
   "metadata": {},
   "source": [
    "##### Árbol normal"
   ]
  },
  {
   "cell_type": "code",
   "execution_count": 28,
   "metadata": {},
   "outputs": [],
   "source": [
    "tree_clf = DecisionTreeClassifier(random_state = 42, \n",
    "                                  max_depth = 3\n",
    "                                 )"
   ]
  },
  {
   "cell_type": "code",
   "execution_count": 29,
   "metadata": {},
   "outputs": [
    {
     "data": {
      "text/plain": [
       "DecisionTreeClassifier(max_depth=3, random_state=42)"
      ]
     },
     "execution_count": 29,
     "metadata": {},
     "output_type": "execute_result"
    }
   ],
   "source": [
    "tree_clf.fit(X_train, y_train)"
   ]
  },
  {
   "cell_type": "code",
   "execution_count": 30,
   "metadata": {},
   "outputs": [],
   "source": [
    "y_pred_tree = tree_clf.predict(X_test)"
   ]
  },
  {
   "cell_type": "code",
   "execution_count": 31,
   "metadata": {},
   "outputs": [
    {
     "name": "stdout",
     "output_type": "stream",
     "text": [
      "0.8\n"
     ]
    }
   ],
   "source": [
    "print(accuracy_score(y_test, y_pred_tree))"
   ]
  },
  {
   "cell_type": "markdown",
   "metadata": {},
   "source": [
    "##### Gradient Boosting"
   ]
  },
  {
   "cell_type": "code",
   "execution_count": 32,
   "metadata": {},
   "outputs": [],
   "source": [
    "from sklearn.ensemble import GradientBoostingClassifier"
   ]
  },
  {
   "cell_type": "code",
   "execution_count": 33,
   "metadata": {},
   "outputs": [],
   "source": [
    "gb_clf = GradientBoostingClassifier(n_estimators = 500, \n",
    "                                    random_state = 42\n",
    "                                   )"
   ]
  },
  {
   "cell_type": "code",
   "execution_count": 34,
   "metadata": {},
   "outputs": [
    {
     "data": {
      "text/plain": [
       "GradientBoostingClassifier(n_estimators=500, random_state=42)"
      ]
     },
     "execution_count": 34,
     "metadata": {},
     "output_type": "execute_result"
    }
   ],
   "source": [
    "gb_clf.fit(X_train, y_train)"
   ]
  },
  {
   "cell_type": "code",
   "execution_count": 35,
   "metadata": {},
   "outputs": [],
   "source": [
    "y_pred_gb = gb_clf.predict(X_test)"
   ]
  },
  {
   "cell_type": "code",
   "execution_count": 36,
   "metadata": {},
   "outputs": [
    {
     "name": "stdout",
     "output_type": "stream",
     "text": [
      "0.85\n"
     ]
    }
   ],
   "source": [
    "print(accuracy_score(y_test, y_pred_gb))"
   ]
  },
  {
   "cell_type": "markdown",
   "metadata": {},
   "source": [
    "##### Variación de hiperparámetros en ensamble"
   ]
  },
  {
   "cell_type": "markdown",
   "metadata": {},
   "source": [
    "Se crean conjuntos de valores posibles para los hiperparámetros"
   ]
  },
  {
   "cell_type": "code",
   "execution_count": 37,
   "metadata": {},
   "outputs": [],
   "source": [
    "learning_rates = [1, 0.5, 0.25, 0.1, 0.05, 0.01]\n",
    "max_depths = [1, 2, 3, 4]"
   ]
  },
  {
   "cell_type": "markdown",
   "metadata": {},
   "source": [
    "Se inicializa el vector de resultados"
   ]
  },
  {
   "cell_type": "code",
   "execution_count": 38,
   "metadata": {},
   "outputs": [],
   "source": [
    "resultados_test = []"
   ]
  },
  {
   "cell_type": "markdown",
   "metadata": {},
   "source": [
    "Se crea una rutina para obtener los resultados"
   ]
  },
  {
   "cell_type": "code",
   "execution_count": 39,
   "metadata": {},
   "outputs": [],
   "source": [
    "for eta in learning_rates:\n",
    "    for d in max_depths:\n",
    "        gb_clf_i = GradientBoostingClassifier(learning_rate = eta,\n",
    "                                              n_estimators = 500,\n",
    "                                              random_state = 42,\n",
    "                                              max_depth = d)\n",
    "        \n",
    "        gb_clf_i.fit(X_train, y_train)\n",
    "        \n",
    "        y_pred_test = gb_clf_i.predict(X_test)\n",
    "        \n",
    "        acc_test = accuracy_score(y_test, y_pred_test)\n",
    "        \n",
    "        resultados_test.append(acc_test)"
   ]
  },
  {
   "cell_type": "markdown",
   "metadata": {},
   "source": [
    "Representación de los resultados"
   ]
  },
  {
   "cell_type": "code",
   "execution_count": 40,
   "metadata": {},
   "outputs": [],
   "source": [
    "import matplotlib.pyplot as plt\n",
    "from matplotlib.legend_handler import HandlerLine2D"
   ]
  },
  {
   "cell_type": "code",
   "execution_count": 41,
   "metadata": {},
   "outputs": [
    {
     "data": {
      "image/png": "[encoded data removed]",
      "text/plain": [
       "<Figure size 576x342 with 1 Axes>"
      ]
     },
     "metadata": {
      "needs_background": "light"
     },
     "output_type": "display_data"
    }
   ],
   "source": [
    "plt.figure(figsize=(8, 4.75))\n",
    "\n",
    "line1, = plt.plot(learning_rates, resultados_test[0:6], \"b\",\n",
    "label = \"max_depth = 1\")\n",
    "line2, = plt.plot(learning_rates, resultados_test[6:12], \"r\",\n",
    "label = \"max_depth = 2\")\n",
    "line2, = plt.plot(learning_rates, resultados_test[12:18], \"g\",\n",
    "label = \"max_depth = 3\")\n",
    "line2, = plt.plot(learning_rates, resultados_test[18:24], \"y\",\n",
    "label = \"max_depth = 4\")\n",
    "plt.legend(handler_map={line1: HandlerLine2D(numpoints = 4)})\n",
    "plt.ylabel(\"Accuracy\")\n",
    "plt.xlabel(\"learning rate\")\n",
    "plt.show()"
   ]
  },
  {
   "cell_type": "markdown",
   "metadata": {},
   "source": [
    "##### Variables importantes"
   ]
  },
  {
   "cell_type": "markdown",
   "metadata": {},
   "source": [
    "Primero con 1 nivel de profundidad y tasa de aprendizaje 0.01"
   ]
  },
  {
   "cell_type": "code",
   "execution_count": 42,
   "metadata": {},
   "outputs": [],
   "source": [
    "gb_clf_i1 = GradientBoostingClassifier(learning_rate = 0.01,\n",
    "                                       n_estimators = 500,\n",
    "                                       random_state = 42,\n",
    "                                       max_depth = 1\n",
    "                                      )"
   ]
  },
  {
   "cell_type": "code",
   "execution_count": 43,
   "metadata": {},
   "outputs": [
    {
     "data": {
      "text/plain": [
       "GradientBoostingClassifier(learning_rate=0.01, max_depth=1, n_estimators=500,\n",
       "                           random_state=42)"
      ]
     },
     "execution_count": 43,
     "metadata": {},
     "output_type": "execute_result"
    }
   ],
   "source": [
    "gb_clf_i1.fit(X_train, y_train)"
   ]
  },
  {
   "cell_type": "code",
   "execution_count": 44,
   "metadata": {},
   "outputs": [],
   "source": [
    "importancias = gb_clf_i1.feature_importances_"
   ]
  },
  {
   "cell_type": "code",
   "execution_count": 45,
   "metadata": {},
   "outputs": [],
   "source": [
    "indices = np.argsort(importancias)[::-1]"
   ]
  },
  {
   "cell_type": "markdown",
   "metadata": {},
   "source": [
    "Ahora, con 4 niveles de produndidad y tasa de aprendizaje 0.1"
   ]
  },
  {
   "cell_type": "code",
   "execution_count": 46,
   "metadata": {},
   "outputs": [],
   "source": [
    "gb_clf_i2 = GradientBoostingClassifier(learning_rate = 0.1,\n",
    "                                       n_estimators = 500, \n",
    "                                       random_state = 42, \n",
    "                                       max_depth = 4\n",
    "                                      )"
   ]
  },
  {
   "cell_type": "code",
   "execution_count": 47,
   "metadata": {},
   "outputs": [
    {
     "data": {
      "text/plain": [
       "GradientBoostingClassifier(max_depth=4, n_estimators=500, random_state=42)"
      ]
     },
     "execution_count": 47,
     "metadata": {},
     "output_type": "execute_result"
    }
   ],
   "source": [
    "gb_clf_i2.fit(X_train, y_train)"
   ]
  },
  {
   "cell_type": "code",
   "execution_count": 48,
   "metadata": {},
   "outputs": [],
   "source": [
    "importancias2 = gb_clf_i2.feature_importances_"
   ]
  },
  {
   "cell_type": "code",
   "execution_count": 49,
   "metadata": {},
   "outputs": [],
   "source": [
    "indices2 = np.argsort(importancias2)[::-1]"
   ]
  },
  {
   "cell_type": "markdown",
   "metadata": {},
   "source": [
    "Representación gráfica"
   ]
  },
  {
   "cell_type": "code",
   "execution_count": 50,
   "metadata": {},
   "outputs": [
    {
     "data": {
      "image/png": "[encoded data removed]",
      "text/plain": [
       "<Figure size 864x936 with 2 Axes>"
      ]
     },
     "metadata": {
      "needs_background": "light"
     },
     "output_type": "display_data"
    }
   ],
   "source": [
    "plt.figure(figsize = (12, 13))\n",
    "plt.subplot(2, 1, 1)\n",
    "plt.title(\"Importancia de las variables d=1 lr=0.01\")\n",
    "plt.bar(range(X.shape[1]), importancias[indices],\n",
    "color=\"r\", align=\"center\")\n",
    "plt.xticks(range(X.shape[1]), indices)\n",
    "plt.xlim([-1, X.shape[1]])\n",
    "plt.subplot(2, 1, 2)\n",
    "plt.title(\"Importancia de las variables d=4 lr=0.1\")\n",
    "plt.bar(range(X.shape[1]), importancias2[indices2],\n",
    "color=\"r\", align=\"center\")\n",
    "plt.xticks(range(X.shape[1]), indices)\n",
    "plt.xlim([-1, X.shape[1]])\n",
    "plt.show()"
   ]
  },
  {
   "cell_type": "markdown",
   "metadata": {},
   "source": [
    "Elaborado por Jairo Rojas"
   ]
  }
 ],
 "metadata": {
  "kernelspec": {
   "display_name": "Python 3",
   "language": "python",
   "name": "python3"
  },
  "language_info": {
   "codemirror_mode": {
    "name": "ipython",
    "version": 3
   },
   "file_extension": ".py",
   "mimetype": "text/x-python",
   "name": "python",
   "nbconvert_exporter": "python",
   "pygments_lexer": "ipython3",
   "version": "3.8.8"
  }
 },
 "nbformat": 4,
 "nbformat_minor": 4
}
