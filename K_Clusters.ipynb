{
 "cells": [
  {
   "cell_type": "markdown",
   "metadata": {},
   "source": [
    "# K Clusters"
   ]
  },
  {
   "cell_type": "markdown",
   "metadata": {},
   "source": [
    "## Carga de datos"
   ]
  },
  {
   "cell_type": "code",
   "execution_count": 1,
   "metadata": {},
   "outputs": [],
   "source": [
    "import pandas as pd"
   ]
  },
  {
   "cell_type": "code",
   "execution_count": 2,
   "metadata": {},
   "outputs": [],
   "source": [
    "url = 'https://raw.githubusercontent.com/JairoRB/Classification/main/mb.csv'\n",
    "df = pd.read_csv(url)"
   ]
  },
  {
   "cell_type": "code",
   "execution_count": 3,
   "metadata": {},
   "outputs": [
    {
     "data": {
      "text/html": [
       "<div>\n",
       "<style scoped>\n",
       "    .dataframe tbody tr th:only-of-type {\n",
       "        vertical-align: middle;\n",
       "    }\n",
       "\n",
       "    .dataframe tbody tr th {\n",
       "        vertical-align: top;\n",
       "    }\n",
       "\n",
       "    .dataframe thead th {\n",
       "        text-align: right;\n",
       "    }\n",
       "</style>\n",
       "<table border=\"1\" class=\"dataframe\">\n",
       "  <thead>\n",
       "    <tr style=\"text-align: right;\">\n",
       "      <th></th>\n",
       "      <th>alanine</th>\n",
       "      <th>creatin.phosphate</th>\n",
       "      <th>creatine</th>\n",
       "      <th>cysteine</th>\n",
       "      <th>glutamine</th>\n",
       "      <th>n.acetylglutamine</th>\n",
       "      <th>proline</th>\n",
       "      <th>tryptophan</th>\n",
       "      <th>tyrosine</th>\n",
       "      <th>isoleucine</th>\n",
       "      <th>...</th>\n",
       "      <th>medium.vldl</th>\n",
       "      <th>small.vldl</th>\n",
       "      <th>total.ldl</th>\n",
       "      <th>large.ldl</th>\n",
       "      <th>medium.ldl</th>\n",
       "      <th>small.ldl</th>\n",
       "      <th>total.hdl</th>\n",
       "      <th>large.hdl</th>\n",
       "      <th>medium.hdl</th>\n",
       "      <th>small.hdl</th>\n",
       "    </tr>\n",
       "  </thead>\n",
       "  <tbody>\n",
       "    <tr>\n",
       "      <th>0</th>\n",
       "      <td>2.846652</td>\n",
       "      <td>0.530628</td>\n",
       "      <td>0.620576</td>\n",
       "      <td>0.307485</td>\n",
       "      <td>2.061787</td>\n",
       "      <td>2.248129</td>\n",
       "      <td>2.280339</td>\n",
       "      <td>0.746688</td>\n",
       "      <td>0.993252</td>\n",
       "      <td>2.479894</td>\n",
       "      <td>...</td>\n",
       "      <td>1.401183</td>\n",
       "      <td>2.942859</td>\n",
       "      <td>6.641274</td>\n",
       "      <td>4.820201</td>\n",
       "      <td>5.640807</td>\n",
       "      <td>5.887187</td>\n",
       "      <td>3.308717</td>\n",
       "      <td>-2.120264</td>\n",
       "      <td>2.242835</td>\n",
       "      <td>2.879760</td>\n",
       "    </tr>\n",
       "    <tr>\n",
       "      <th>1</th>\n",
       "      <td>2.820783</td>\n",
       "      <td>0.576613</td>\n",
       "      <td>0.693147</td>\n",
       "      <td>0.392042</td>\n",
       "      <td>2.102914</td>\n",
       "      <td>2.203869</td>\n",
       "      <td>2.307573</td>\n",
       "      <td>0.974560</td>\n",
       "      <td>1.068153</td>\n",
       "      <td>2.463853</td>\n",
       "      <td>...</td>\n",
       "      <td>1.850028</td>\n",
       "      <td>3.364879</td>\n",
       "      <td>6.787078</td>\n",
       "      <td>4.895898</td>\n",
       "      <td>5.787388</td>\n",
       "      <td>6.055425</td>\n",
       "      <td>3.346037</td>\n",
       "      <td>-1.171183</td>\n",
       "      <td>2.105353</td>\n",
       "      <td>2.989714</td>\n",
       "    </tr>\n",
       "    <tr>\n",
       "      <th>2</th>\n",
       "      <td>2.664447</td>\n",
       "      <td>0.173953</td>\n",
       "      <td>0.300105</td>\n",
       "      <td>0.009950</td>\n",
       "      <td>1.671473</td>\n",
       "      <td>2.083185</td>\n",
       "      <td>2.002830</td>\n",
       "      <td>0.292670</td>\n",
       "      <td>0.683097</td>\n",
       "      <td>2.379546</td>\n",
       "      <td>...</td>\n",
       "      <td>3.482777</td>\n",
       "      <td>4.950885</td>\n",
       "      <td>7.250770</td>\n",
       "      <td>5.468566</td>\n",
       "      <td>6.072676</td>\n",
       "      <td>6.604255</td>\n",
       "      <td>3.546163</td>\n",
       "      <td>0.029559</td>\n",
       "      <td>2.231089</td>\n",
       "      <td>3.192121</td>\n",
       "    </tr>\n",
       "    <tr>\n",
       "      <th>3</th>\n",
       "      <td>2.735017</td>\n",
       "      <td>0.378436</td>\n",
       "      <td>0.536493</td>\n",
       "      <td>0.207014</td>\n",
       "      <td>1.945910</td>\n",
       "      <td>2.135349</td>\n",
       "      <td>2.175887</td>\n",
       "      <td>0.703098</td>\n",
       "      <td>0.841567</td>\n",
       "      <td>2.332144</td>\n",
       "      <td>...</td>\n",
       "      <td>3.190476</td>\n",
       "      <td>4.797607</td>\n",
       "      <td>7.016816</td>\n",
       "      <td>5.740179</td>\n",
       "      <td>3.418054</td>\n",
       "      <td>6.651042</td>\n",
       "      <td>3.268428</td>\n",
       "      <td>-6.907755</td>\n",
       "      <td>2.063058</td>\n",
       "      <td>2.912351</td>\n",
       "    </tr>\n",
       "    <tr>\n",
       "      <th>4</th>\n",
       "      <td>2.809403</td>\n",
       "      <td>0.418710</td>\n",
       "      <td>0.609766</td>\n",
       "      <td>0.285179</td>\n",
       "      <td>2.001480</td>\n",
       "      <td>2.235376</td>\n",
       "      <td>2.243896</td>\n",
       "      <td>0.559616</td>\n",
       "      <td>0.883768</td>\n",
       "      <td>2.415021</td>\n",
       "      <td>...</td>\n",
       "      <td>2.113843</td>\n",
       "      <td>3.825375</td>\n",
       "      <td>6.226220</td>\n",
       "      <td>4.373616</td>\n",
       "      <td>5.008767</td>\n",
       "      <td>5.623223</td>\n",
       "      <td>3.718924</td>\n",
       "      <td>-1.832581</td>\n",
       "      <td>2.607861</td>\n",
       "      <td>3.313458</td>\n",
       "    </tr>\n",
       "  </tbody>\n",
       "</table>\n",
       "<p>5 rows × 54 columns</p>\n",
       "</div>"
      ],
      "text/plain": [
       "    alanine  creatin.phosphate  creatine  cysteine  glutamine  \\\n",
       "0  2.846652           0.530628  0.620576  0.307485   2.061787   \n",
       "1  2.820783           0.576613  0.693147  0.392042   2.102914   \n",
       "2  2.664447           0.173953  0.300105  0.009950   1.671473   \n",
       "3  2.735017           0.378436  0.536493  0.207014   1.945910   \n",
       "4  2.809403           0.418710  0.609766  0.285179   2.001480   \n",
       "\n",
       "   n.acetylglutamine   proline  tryptophan  tyrosine  isoleucine  ...  \\\n",
       "0           2.248129  2.280339    0.746688  0.993252    2.479894  ...   \n",
       "1           2.203869  2.307573    0.974560  1.068153    2.463853  ...   \n",
       "2           2.083185  2.002830    0.292670  0.683097    2.379546  ...   \n",
       "3           2.135349  2.175887    0.703098  0.841567    2.332144  ...   \n",
       "4           2.235376  2.243896    0.559616  0.883768    2.415021  ...   \n",
       "\n",
       "   medium.vldl  small.vldl  total.ldl  large.ldl  medium.ldl  small.ldl  \\\n",
       "0     1.401183    2.942859   6.641274   4.820201    5.640807   5.887187   \n",
       "1     1.850028    3.364879   6.787078   4.895898    5.787388   6.055425   \n",
       "2     3.482777    4.950885   7.250770   5.468566    6.072676   6.604255   \n",
       "3     3.190476    4.797607   7.016816   5.740179    3.418054   6.651042   \n",
       "4     2.113843    3.825375   6.226220   4.373616    5.008767   5.623223   \n",
       "\n",
       "   total.hdl  large.hdl  medium.hdl  small.hdl  \n",
       "0   3.308717  -2.120264    2.242835   2.879760  \n",
       "1   3.346037  -1.171183    2.105353   2.989714  \n",
       "2   3.546163   0.029559    2.231089   3.192121  \n",
       "3   3.268428  -6.907755    2.063058   2.912351  \n",
       "4   3.718924  -1.832581    2.607861   3.313458  \n",
       "\n",
       "[5 rows x 54 columns]"
      ]
     },
     "execution_count": 3,
     "metadata": {},
     "output_type": "execute_result"
    }
   ],
   "source": [
    "df.head(5)"
   ]
  },
  {
   "cell_type": "code",
   "execution_count": 4,
   "metadata": {},
   "outputs": [
    {
     "data": {
      "text/plain": [
       "(1175, 54)"
      ]
     },
     "execution_count": 4,
     "metadata": {},
     "output_type": "execute_result"
    }
   ],
   "source": [
    "df.shape"
   ]
  },
  {
   "cell_type": "markdown",
   "metadata": {},
   "source": [
    "## Análisis de datos"
   ]
  },
  {
   "cell_type": "code",
   "execution_count": 5,
   "metadata": {},
   "outputs": [
    {
     "name": "stdout",
     "output_type": "stream",
     "text": [
      "<class 'pandas.core.frame.DataFrame'>\n",
      "RangeIndex: 1175 entries, 0 to 1174\n",
      "Data columns (total 54 columns):\n",
      " #   Column                 Non-Null Count  Dtype  \n",
      "---  ------                 --------------  -----  \n",
      " 0   alanine                1175 non-null   float64\n",
      " 1   creatin.phosphate      1175 non-null   float64\n",
      " 2   creatine               1175 non-null   float64\n",
      " 3   cysteine               1175 non-null   float64\n",
      " 4   glutamine              1175 non-null   float64\n",
      " 5   n.acetylglutamine      1175 non-null   float64\n",
      " 6   proline                1175 non-null   float64\n",
      " 7   tryptophan             1175 non-null   float64\n",
      " 8   tyrosine               1175 non-null   float64\n",
      " 9   isoleucine             1175 non-null   float64\n",
      " 10  leucine                1175 non-null   float64\n",
      " 11  valine                 1175 non-null   float64\n",
      " 12  fa.ch2ch2co            1175 non-null   float64\n",
      " 13  fa.ch2ch3              1175 non-null   float64\n",
      " 14  fa.ch2n                1175 non-null   float64\n",
      " 15  fa.ch3                 1175 non-null   float64\n",
      " 16  fa.chch2ch             1175 non-null   float64\n",
      " 17  isobutyrate            1175 non-null   float64\n",
      " 18  albumin                1175 non-null   float64\n",
      " 19  creatinine             1175 non-null   float64\n",
      " 20  citrate                1175 non-null   float64\n",
      " 21  lactate                1175 non-null   float64\n",
      " 22  pyruvate               1175 non-null   float64\n",
      " 23  acetate                1175 non-null   float64\n",
      " 24  acetone                1175 non-null   float64\n",
      " 25  hydroxybutyrate.3      1175 non-null   float64\n",
      " 26  ethanol                1175 non-null   float64\n",
      " 27  isopropanol            1175 non-null   float64\n",
      " 28  methanol               1175 non-null   float64\n",
      " 29  trimethylamines        1175 non-null   float64\n",
      " 30  phenylpropionate       1175 non-null   float64\n",
      " 31  O.phosphoethanolamine  1175 non-null   float64\n",
      " 32  total.c                1175 non-null   float64\n",
      " 33  vldl.c                 1175 non-null   float64\n",
      " 34  ldl.c                  1175 non-null   float64\n",
      " 35  idl.c                  1175 non-null   float64\n",
      " 36  hdl.c                  1175 non-null   float64\n",
      " 37  total.tg               1175 non-null   float64\n",
      " 38  vldl.tg                1175 non-null   float64\n",
      " 39  ldl.tg                 1175 non-null   float64\n",
      " 40  idl.tg                 1175 non-null   float64\n",
      " 41  hdl.tg                 1175 non-null   float64\n",
      " 42  total.vldl             1175 non-null   float64\n",
      " 43  large.vldl             1175 non-null   float64\n",
      " 44  medium.vldl            1175 non-null   float64\n",
      " 45  small.vldl             1175 non-null   float64\n",
      " 46  total.ldl              1175 non-null   float64\n",
      " 47  large.ldl              1175 non-null   float64\n",
      " 48  medium.ldl             1175 non-null   float64\n",
      " 49  small.ldl              1175 non-null   float64\n",
      " 50  total.hdl              1175 non-null   float64\n",
      " 51  large.hdl              1175 non-null   float64\n",
      " 52  medium.hdl             1175 non-null   float64\n",
      " 53  small.hdl              1175 non-null   float64\n",
      "dtypes: float64(54)\n",
      "memory usage: 495.8 KB\n"
     ]
    }
   ],
   "source": [
    "df.info()"
   ]
  },
  {
   "cell_type": "code",
   "execution_count": 6,
   "metadata": {},
   "outputs": [
    {
     "data": {
      "text/html": [
       "<div>\n",
       "<style scoped>\n",
       "    .dataframe tbody tr th:only-of-type {\n",
       "        vertical-align: middle;\n",
       "    }\n",
       "\n",
       "    .dataframe tbody tr th {\n",
       "        vertical-align: top;\n",
       "    }\n",
       "\n",
       "    .dataframe thead th {\n",
       "        text-align: right;\n",
       "    }\n",
       "</style>\n",
       "<table border=\"1\" class=\"dataframe\">\n",
       "  <thead>\n",
       "    <tr style=\"text-align: right;\">\n",
       "      <th></th>\n",
       "      <th>alanine</th>\n",
       "      <th>creatin.phosphate</th>\n",
       "      <th>creatine</th>\n",
       "      <th>cysteine</th>\n",
       "      <th>glutamine</th>\n",
       "      <th>n.acetylglutamine</th>\n",
       "      <th>proline</th>\n",
       "      <th>tryptophan</th>\n",
       "      <th>tyrosine</th>\n",
       "      <th>isoleucine</th>\n",
       "      <th>...</th>\n",
       "      <th>medium.vldl</th>\n",
       "      <th>small.vldl</th>\n",
       "      <th>total.ldl</th>\n",
       "      <th>large.ldl</th>\n",
       "      <th>medium.ldl</th>\n",
       "      <th>small.ldl</th>\n",
       "      <th>total.hdl</th>\n",
       "      <th>large.hdl</th>\n",
       "      <th>medium.hdl</th>\n",
       "      <th>small.hdl</th>\n",
       "    </tr>\n",
       "  </thead>\n",
       "  <tbody>\n",
       "    <tr>\n",
       "      <th>count</th>\n",
       "      <td>1175.000000</td>\n",
       "      <td>1175.000000</td>\n",
       "      <td>1175.000000</td>\n",
       "      <td>1175.000000</td>\n",
       "      <td>1175.000000</td>\n",
       "      <td>1175.000000</td>\n",
       "      <td>1175.000000</td>\n",
       "      <td>1175.000000</td>\n",
       "      <td>1175.000000</td>\n",
       "      <td>1175.000000</td>\n",
       "      <td>...</td>\n",
       "      <td>1175.000000</td>\n",
       "      <td>1175.000000</td>\n",
       "      <td>1175.000000</td>\n",
       "      <td>1175.000000</td>\n",
       "      <td>1175.000000</td>\n",
       "      <td>1175.000000</td>\n",
       "      <td>1175.000000</td>\n",
       "      <td>1175.000000</td>\n",
       "      <td>1175.000000</td>\n",
       "      <td>1175.000000</td>\n",
       "    </tr>\n",
       "    <tr>\n",
       "      <th>mean</th>\n",
       "      <td>2.792453</td>\n",
       "      <td>0.486699</td>\n",
       "      <td>0.609947</td>\n",
       "      <td>0.326707</td>\n",
       "      <td>2.012933</td>\n",
       "      <td>2.205230</td>\n",
       "      <td>2.235861</td>\n",
       "      <td>0.751681</td>\n",
       "      <td>0.965877</td>\n",
       "      <td>2.438908</td>\n",
       "      <td>...</td>\n",
       "      <td>1.848571</td>\n",
       "      <td>3.522179</td>\n",
       "      <td>6.721444</td>\n",
       "      <td>4.857370</td>\n",
       "      <td>5.614471</td>\n",
       "      <td>6.035525</td>\n",
       "      <td>3.411902</td>\n",
       "      <td>-2.085142</td>\n",
       "      <td>2.246138</td>\n",
       "      <td>3.025362</td>\n",
       "    </tr>\n",
       "    <tr>\n",
       "      <th>std</th>\n",
       "      <td>0.069553</td>\n",
       "      <td>0.100735</td>\n",
       "      <td>0.100224</td>\n",
       "      <td>0.103958</td>\n",
       "      <td>0.106536</td>\n",
       "      <td>0.066221</td>\n",
       "      <td>0.087299</td>\n",
       "      <td>0.200085</td>\n",
       "      <td>0.100507</td>\n",
       "      <td>0.055249</td>\n",
       "      <td>...</td>\n",
       "      <td>0.866802</td>\n",
       "      <td>0.880322</td>\n",
       "      <td>0.282143</td>\n",
       "      <td>0.294817</td>\n",
       "      <td>0.382567</td>\n",
       "      <td>0.310968</td>\n",
       "      <td>0.247928</td>\n",
       "      <td>1.016835</td>\n",
       "      <td>0.306921</td>\n",
       "      <td>0.241540</td>\n",
       "    </tr>\n",
       "    <tr>\n",
       "      <th>min</th>\n",
       "      <td>2.243896</td>\n",
       "      <td>-0.235722</td>\n",
       "      <td>-0.186330</td>\n",
       "      <td>-0.462035</td>\n",
       "      <td>1.199965</td>\n",
       "      <td>1.656321</td>\n",
       "      <td>1.663926</td>\n",
       "      <td>-0.967584</td>\n",
       "      <td>0.254642</td>\n",
       "      <td>2.047693</td>\n",
       "      <td>...</td>\n",
       "      <td>-1.309333</td>\n",
       "      <td>0.476234</td>\n",
       "      <td>5.412851</td>\n",
       "      <td>3.271089</td>\n",
       "      <td>-0.478036</td>\n",
       "      <td>4.776094</td>\n",
       "      <td>2.584752</td>\n",
       "      <td>-6.907755</td>\n",
       "      <td>1.018847</td>\n",
       "      <td>2.231089</td>\n",
       "    </tr>\n",
       "    <tr>\n",
       "      <th>25%</th>\n",
       "      <td>2.760010</td>\n",
       "      <td>0.438255</td>\n",
       "      <td>0.559616</td>\n",
       "      <td>0.277632</td>\n",
       "      <td>1.964311</td>\n",
       "      <td>2.173615</td>\n",
       "      <td>2.190536</td>\n",
       "      <td>0.662688</td>\n",
       "      <td>0.908259</td>\n",
       "      <td>2.413232</td>\n",
       "      <td>...</td>\n",
       "      <td>1.293355</td>\n",
       "      <td>2.920200</td>\n",
       "      <td>6.538096</td>\n",
       "      <td>4.669599</td>\n",
       "      <td>5.446672</td>\n",
       "      <td>5.821210</td>\n",
       "      <td>3.240442</td>\n",
       "      <td>-2.302585</td>\n",
       "      <td>2.053481</td>\n",
       "      <td>2.867046</td>\n",
       "    </tr>\n",
       "    <tr>\n",
       "      <th>50%</th>\n",
       "      <td>2.805177</td>\n",
       "      <td>0.500775</td>\n",
       "      <td>0.625938</td>\n",
       "      <td>0.343590</td>\n",
       "      <td>2.029463</td>\n",
       "      <td>2.218116</td>\n",
       "      <td>2.248129</td>\n",
       "      <td>0.760806</td>\n",
       "      <td>0.978326</td>\n",
       "      <td>2.448416</td>\n",
       "      <td>...</td>\n",
       "      <td>1.912501</td>\n",
       "      <td>3.565015</td>\n",
       "      <td>6.733771</td>\n",
       "      <td>4.868611</td>\n",
       "      <td>5.637821</td>\n",
       "      <td>6.045574</td>\n",
       "      <td>3.416414</td>\n",
       "      <td>-1.897120</td>\n",
       "      <td>2.285439</td>\n",
       "      <td>3.025776</td>\n",
       "    </tr>\n",
       "    <tr>\n",
       "      <th>75%</th>\n",
       "      <td>2.837908</td>\n",
       "      <td>0.548121</td>\n",
       "      <td>0.678034</td>\n",
       "      <td>0.398776</td>\n",
       "      <td>2.084429</td>\n",
       "      <td>2.250239</td>\n",
       "      <td>2.296567</td>\n",
       "      <td>0.854415</td>\n",
       "      <td>1.033184</td>\n",
       "      <td>2.474014</td>\n",
       "      <td>...</td>\n",
       "      <td>2.429657</td>\n",
       "      <td>4.154891</td>\n",
       "      <td>6.918828</td>\n",
       "      <td>5.060663</td>\n",
       "      <td>5.844935</td>\n",
       "      <td>6.248942</td>\n",
       "      <td>3.581990</td>\n",
       "      <td>-1.609438</td>\n",
       "      <td>2.460870</td>\n",
       "      <td>3.188417</td>\n",
       "    </tr>\n",
       "    <tr>\n",
       "      <th>max</th>\n",
       "      <td>2.917771</td>\n",
       "      <td>0.774727</td>\n",
       "      <td>0.802002</td>\n",
       "      <td>0.576613</td>\n",
       "      <td>2.236445</td>\n",
       "      <td>2.325325</td>\n",
       "      <td>2.411439</td>\n",
       "      <td>1.773256</td>\n",
       "      <td>1.232560</td>\n",
       "      <td>2.624669</td>\n",
       "      <td>...</td>\n",
       "      <td>4.652912</td>\n",
       "      <td>6.415588</td>\n",
       "      <td>7.745488</td>\n",
       "      <td>5.956096</td>\n",
       "      <td>6.494963</td>\n",
       "      <td>7.347010</td>\n",
       "      <td>4.140910</td>\n",
       "      <td>0.198851</td>\n",
       "      <td>3.019449</td>\n",
       "      <td>3.901973</td>\n",
       "    </tr>\n",
       "  </tbody>\n",
       "</table>\n",
       "<p>8 rows × 54 columns</p>\n",
       "</div>"
      ],
      "text/plain": [
       "           alanine  creatin.phosphate     creatine     cysteine    glutamine  \\\n",
       "count  1175.000000        1175.000000  1175.000000  1175.000000  1175.000000   \n",
       "mean      2.792453           0.486699     0.609947     0.326707     2.012933   \n",
       "std       0.069553           0.100735     0.100224     0.103958     0.106536   \n",
       "min       2.243896          -0.235722    -0.186330    -0.462035     1.199965   \n",
       "25%       2.760010           0.438255     0.559616     0.277632     1.964311   \n",
       "50%       2.805177           0.500775     0.625938     0.343590     2.029463   \n",
       "75%       2.837908           0.548121     0.678034     0.398776     2.084429   \n",
       "max       2.917771           0.774727     0.802002     0.576613     2.236445   \n",
       "\n",
       "       n.acetylglutamine      proline   tryptophan     tyrosine   isoleucine  \\\n",
       "count        1175.000000  1175.000000  1175.000000  1175.000000  1175.000000   \n",
       "mean            2.205230     2.235861     0.751681     0.965877     2.438908   \n",
       "std             0.066221     0.087299     0.200085     0.100507     0.055249   \n",
       "min             1.656321     1.663926    -0.967584     0.254642     2.047693   \n",
       "25%             2.173615     2.190536     0.662688     0.908259     2.413232   \n",
       "50%             2.218116     2.248129     0.760806     0.978326     2.448416   \n",
       "75%             2.250239     2.296567     0.854415     1.033184     2.474014   \n",
       "max             2.325325     2.411439     1.773256     1.232560     2.624669   \n",
       "\n",
       "       ...  medium.vldl   small.vldl    total.ldl    large.ldl   medium.ldl  \\\n",
       "count  ...  1175.000000  1175.000000  1175.000000  1175.000000  1175.000000   \n",
       "mean   ...     1.848571     3.522179     6.721444     4.857370     5.614471   \n",
       "std    ...     0.866802     0.880322     0.282143     0.294817     0.382567   \n",
       "min    ...    -1.309333     0.476234     5.412851     3.271089    -0.478036   \n",
       "25%    ...     1.293355     2.920200     6.538096     4.669599     5.446672   \n",
       "50%    ...     1.912501     3.565015     6.733771     4.868611     5.637821   \n",
       "75%    ...     2.429657     4.154891     6.918828     5.060663     5.844935   \n",
       "max    ...     4.652912     6.415588     7.745488     5.956096     6.494963   \n",
       "\n",
       "         small.ldl    total.hdl    large.hdl   medium.hdl    small.hdl  \n",
       "count  1175.000000  1175.000000  1175.000000  1175.000000  1175.000000  \n",
       "mean      6.035525     3.411902    -2.085142     2.246138     3.025362  \n",
       "std       0.310968     0.247928     1.016835     0.306921     0.241540  \n",
       "min       4.776094     2.584752    -6.907755     1.018847     2.231089  \n",
       "25%       5.821210     3.240442    -2.302585     2.053481     2.867046  \n",
       "50%       6.045574     3.416414    -1.897120     2.285439     3.025776  \n",
       "75%       6.248942     3.581990    -1.609438     2.460870     3.188417  \n",
       "max       7.347010     4.140910     0.198851     3.019449     3.901973  \n",
       "\n",
       "[8 rows x 54 columns]"
      ]
     },
     "execution_count": 6,
     "metadata": {},
     "output_type": "execute_result"
    }
   ],
   "source": [
    "df.describe()"
   ]
  },
  {
   "cell_type": "markdown",
   "metadata": {},
   "source": [
    "## Preparación de datos"
   ]
  },
  {
   "cell_type": "markdown",
   "metadata": {},
   "source": [
    "Se crea una variable con distintas categorías"
   ]
  },
  {
   "cell_type": "code",
   "execution_count": 7,
   "metadata": {},
   "outputs": [],
   "source": [
    "import numpy as np"
   ]
  },
  {
   "cell_type": "code",
   "execution_count": 8,
   "metadata": {},
   "outputs": [],
   "source": [
    "df['alanine'] = np.where(df['alanine'] > 2.83, 4, \n",
    "                         np.where(df['alanine'] > 2.81, 3, \n",
    "                                 np.where(df['alanine'] > 2.78, 2, \n",
    "                                         np.where(df['alanine'] > 2.76, 1, 0))))"
   ]
  },
  {
   "cell_type": "code",
   "execution_count": 9,
   "metadata": {},
   "outputs": [
    {
     "name": "stdout",
     "output_type": "stream",
     "text": [
      "<class 'pandas.core.frame.DataFrame'>\n",
      "RangeIndex: 1175 entries, 0 to 1174\n",
      "Data columns (total 54 columns):\n",
      " #   Column                 Non-Null Count  Dtype  \n",
      "---  ------                 --------------  -----  \n",
      " 0   alanine                1175 non-null   int32  \n",
      " 1   creatin.phosphate      1175 non-null   float64\n",
      " 2   creatine               1175 non-null   float64\n",
      " 3   cysteine               1175 non-null   float64\n",
      " 4   glutamine              1175 non-null   float64\n",
      " 5   n.acetylglutamine      1175 non-null   float64\n",
      " 6   proline                1175 non-null   float64\n",
      " 7   tryptophan             1175 non-null   float64\n",
      " 8   tyrosine               1175 non-null   float64\n",
      " 9   isoleucine             1175 non-null   float64\n",
      " 10  leucine                1175 non-null   float64\n",
      " 11  valine                 1175 non-null   float64\n",
      " 12  fa.ch2ch2co            1175 non-null   float64\n",
      " 13  fa.ch2ch3              1175 non-null   float64\n",
      " 14  fa.ch2n                1175 non-null   float64\n",
      " 15  fa.ch3                 1175 non-null   float64\n",
      " 16  fa.chch2ch             1175 non-null   float64\n",
      " 17  isobutyrate            1175 non-null   float64\n",
      " 18  albumin                1175 non-null   float64\n",
      " 19  creatinine             1175 non-null   float64\n",
      " 20  citrate                1175 non-null   float64\n",
      " 21  lactate                1175 non-null   float64\n",
      " 22  pyruvate               1175 non-null   float64\n",
      " 23  acetate                1175 non-null   float64\n",
      " 24  acetone                1175 non-null   float64\n",
      " 25  hydroxybutyrate.3      1175 non-null   float64\n",
      " 26  ethanol                1175 non-null   float64\n",
      " 27  isopropanol            1175 non-null   float64\n",
      " 28  methanol               1175 non-null   float64\n",
      " 29  trimethylamines        1175 non-null   float64\n",
      " 30  phenylpropionate       1175 non-null   float64\n",
      " 31  O.phosphoethanolamine  1175 non-null   float64\n",
      " 32  total.c                1175 non-null   float64\n",
      " 33  vldl.c                 1175 non-null   float64\n",
      " 34  ldl.c                  1175 non-null   float64\n",
      " 35  idl.c                  1175 non-null   float64\n",
      " 36  hdl.c                  1175 non-null   float64\n",
      " 37  total.tg               1175 non-null   float64\n",
      " 38  vldl.tg                1175 non-null   float64\n",
      " 39  ldl.tg                 1175 non-null   float64\n",
      " 40  idl.tg                 1175 non-null   float64\n",
      " 41  hdl.tg                 1175 non-null   float64\n",
      " 42  total.vldl             1175 non-null   float64\n",
      " 43  large.vldl             1175 non-null   float64\n",
      " 44  medium.vldl            1175 non-null   float64\n",
      " 45  small.vldl             1175 non-null   float64\n",
      " 46  total.ldl              1175 non-null   float64\n",
      " 47  large.ldl              1175 non-null   float64\n",
      " 48  medium.ldl             1175 non-null   float64\n",
      " 49  small.ldl              1175 non-null   float64\n",
      " 50  total.hdl              1175 non-null   float64\n",
      " 51  large.hdl              1175 non-null   float64\n",
      " 52  medium.hdl             1175 non-null   float64\n",
      " 53  small.hdl              1175 non-null   float64\n",
      "dtypes: float64(53), int32(1)\n",
      "memory usage: 491.2 KB\n"
     ]
    }
   ],
   "source": [
    "df.info()"
   ]
  },
  {
   "cell_type": "code",
   "execution_count": 10,
   "metadata": {
    "scrolled": true
   },
   "outputs": [
    {
     "data": {
      "text/html": [
       "<div>\n",
       "<style scoped>\n",
       "    .dataframe tbody tr th:only-of-type {\n",
       "        vertical-align: middle;\n",
       "    }\n",
       "\n",
       "    .dataframe tbody tr th {\n",
       "        vertical-align: top;\n",
       "    }\n",
       "\n",
       "    .dataframe thead th {\n",
       "        text-align: right;\n",
       "    }\n",
       "</style>\n",
       "<table border=\"1\" class=\"dataframe\">\n",
       "  <thead>\n",
       "    <tr style=\"text-align: right;\">\n",
       "      <th></th>\n",
       "      <th>alanine</th>\n",
       "      <th>creatin.phosphate</th>\n",
       "      <th>creatine</th>\n",
       "      <th>cysteine</th>\n",
       "      <th>glutamine</th>\n",
       "      <th>n.acetylglutamine</th>\n",
       "      <th>proline</th>\n",
       "      <th>tryptophan</th>\n",
       "      <th>tyrosine</th>\n",
       "      <th>isoleucine</th>\n",
       "      <th>...</th>\n",
       "      <th>medium.vldl</th>\n",
       "      <th>small.vldl</th>\n",
       "      <th>total.ldl</th>\n",
       "      <th>large.ldl</th>\n",
       "      <th>medium.ldl</th>\n",
       "      <th>small.ldl</th>\n",
       "      <th>total.hdl</th>\n",
       "      <th>large.hdl</th>\n",
       "      <th>medium.hdl</th>\n",
       "      <th>small.hdl</th>\n",
       "    </tr>\n",
       "  </thead>\n",
       "  <tbody>\n",
       "    <tr>\n",
       "      <th>count</th>\n",
       "      <td>1175.000000</td>\n",
       "      <td>1175.000000</td>\n",
       "      <td>1175.000000</td>\n",
       "      <td>1175.000000</td>\n",
       "      <td>1175.000000</td>\n",
       "      <td>1175.000000</td>\n",
       "      <td>1175.000000</td>\n",
       "      <td>1175.000000</td>\n",
       "      <td>1175.000000</td>\n",
       "      <td>1175.000000</td>\n",
       "      <td>...</td>\n",
       "      <td>1175.000000</td>\n",
       "      <td>1175.000000</td>\n",
       "      <td>1175.000000</td>\n",
       "      <td>1175.000000</td>\n",
       "      <td>1175.000000</td>\n",
       "      <td>1175.000000</td>\n",
       "      <td>1175.000000</td>\n",
       "      <td>1175.000000</td>\n",
       "      <td>1175.000000</td>\n",
       "      <td>1175.000000</td>\n",
       "    </tr>\n",
       "    <tr>\n",
       "      <th>mean</th>\n",
       "      <td>2.200851</td>\n",
       "      <td>0.486699</td>\n",
       "      <td>0.609947</td>\n",
       "      <td>0.326707</td>\n",
       "      <td>2.012933</td>\n",
       "      <td>2.205230</td>\n",
       "      <td>2.235861</td>\n",
       "      <td>0.751681</td>\n",
       "      <td>0.965877</td>\n",
       "      <td>2.438908</td>\n",
       "      <td>...</td>\n",
       "      <td>1.848571</td>\n",
       "      <td>3.522179</td>\n",
       "      <td>6.721444</td>\n",
       "      <td>4.857370</td>\n",
       "      <td>5.614471</td>\n",
       "      <td>6.035525</td>\n",
       "      <td>3.411902</td>\n",
       "      <td>-2.085142</td>\n",
       "      <td>2.246138</td>\n",
       "      <td>3.025362</td>\n",
       "    </tr>\n",
       "    <tr>\n",
       "      <th>std</th>\n",
       "      <td>1.574011</td>\n",
       "      <td>0.100735</td>\n",
       "      <td>0.100224</td>\n",
       "      <td>0.103958</td>\n",
       "      <td>0.106536</td>\n",
       "      <td>0.066221</td>\n",
       "      <td>0.087299</td>\n",
       "      <td>0.200085</td>\n",
       "      <td>0.100507</td>\n",
       "      <td>0.055249</td>\n",
       "      <td>...</td>\n",
       "      <td>0.866802</td>\n",
       "      <td>0.880322</td>\n",
       "      <td>0.282143</td>\n",
       "      <td>0.294817</td>\n",
       "      <td>0.382567</td>\n",
       "      <td>0.310968</td>\n",
       "      <td>0.247928</td>\n",
       "      <td>1.016835</td>\n",
       "      <td>0.306921</td>\n",
       "      <td>0.241540</td>\n",
       "    </tr>\n",
       "    <tr>\n",
       "      <th>min</th>\n",
       "      <td>0.000000</td>\n",
       "      <td>-0.235722</td>\n",
       "      <td>-0.186330</td>\n",
       "      <td>-0.462035</td>\n",
       "      <td>1.199965</td>\n",
       "      <td>1.656321</td>\n",
       "      <td>1.663926</td>\n",
       "      <td>-0.967584</td>\n",
       "      <td>0.254642</td>\n",
       "      <td>2.047693</td>\n",
       "      <td>...</td>\n",
       "      <td>-1.309333</td>\n",
       "      <td>0.476234</td>\n",
       "      <td>5.412851</td>\n",
       "      <td>3.271089</td>\n",
       "      <td>-0.478036</td>\n",
       "      <td>4.776094</td>\n",
       "      <td>2.584752</td>\n",
       "      <td>-6.907755</td>\n",
       "      <td>1.018847</td>\n",
       "      <td>2.231089</td>\n",
       "    </tr>\n",
       "    <tr>\n",
       "      <th>25%</th>\n",
       "      <td>1.000000</td>\n",
       "      <td>0.438255</td>\n",
       "      <td>0.559616</td>\n",
       "      <td>0.277632</td>\n",
       "      <td>1.964311</td>\n",
       "      <td>2.173615</td>\n",
       "      <td>2.190536</td>\n",
       "      <td>0.662688</td>\n",
       "      <td>0.908259</td>\n",
       "      <td>2.413232</td>\n",
       "      <td>...</td>\n",
       "      <td>1.293355</td>\n",
       "      <td>2.920200</td>\n",
       "      <td>6.538096</td>\n",
       "      <td>4.669599</td>\n",
       "      <td>5.446672</td>\n",
       "      <td>5.821210</td>\n",
       "      <td>3.240442</td>\n",
       "      <td>-2.302585</td>\n",
       "      <td>2.053481</td>\n",
       "      <td>2.867046</td>\n",
       "    </tr>\n",
       "    <tr>\n",
       "      <th>50%</th>\n",
       "      <td>2.000000</td>\n",
       "      <td>0.500775</td>\n",
       "      <td>0.625938</td>\n",
       "      <td>0.343590</td>\n",
       "      <td>2.029463</td>\n",
       "      <td>2.218116</td>\n",
       "      <td>2.248129</td>\n",
       "      <td>0.760806</td>\n",
       "      <td>0.978326</td>\n",
       "      <td>2.448416</td>\n",
       "      <td>...</td>\n",
       "      <td>1.912501</td>\n",
       "      <td>3.565015</td>\n",
       "      <td>6.733771</td>\n",
       "      <td>4.868611</td>\n",
       "      <td>5.637821</td>\n",
       "      <td>6.045574</td>\n",
       "      <td>3.416414</td>\n",
       "      <td>-1.897120</td>\n",
       "      <td>2.285439</td>\n",
       "      <td>3.025776</td>\n",
       "    </tr>\n",
       "    <tr>\n",
       "      <th>75%</th>\n",
       "      <td>4.000000</td>\n",
       "      <td>0.548121</td>\n",
       "      <td>0.678034</td>\n",
       "      <td>0.398776</td>\n",
       "      <td>2.084429</td>\n",
       "      <td>2.250239</td>\n",
       "      <td>2.296567</td>\n",
       "      <td>0.854415</td>\n",
       "      <td>1.033184</td>\n",
       "      <td>2.474014</td>\n",
       "      <td>...</td>\n",
       "      <td>2.429657</td>\n",
       "      <td>4.154891</td>\n",
       "      <td>6.918828</td>\n",
       "      <td>5.060663</td>\n",
       "      <td>5.844935</td>\n",
       "      <td>6.248942</td>\n",
       "      <td>3.581990</td>\n",
       "      <td>-1.609438</td>\n",
       "      <td>2.460870</td>\n",
       "      <td>3.188417</td>\n",
       "    </tr>\n",
       "    <tr>\n",
       "      <th>max</th>\n",
       "      <td>4.000000</td>\n",
       "      <td>0.774727</td>\n",
       "      <td>0.802002</td>\n",
       "      <td>0.576613</td>\n",
       "      <td>2.236445</td>\n",
       "      <td>2.325325</td>\n",
       "      <td>2.411439</td>\n",
       "      <td>1.773256</td>\n",
       "      <td>1.232560</td>\n",
       "      <td>2.624669</td>\n",
       "      <td>...</td>\n",
       "      <td>4.652912</td>\n",
       "      <td>6.415588</td>\n",
       "      <td>7.745488</td>\n",
       "      <td>5.956096</td>\n",
       "      <td>6.494963</td>\n",
       "      <td>7.347010</td>\n",
       "      <td>4.140910</td>\n",
       "      <td>0.198851</td>\n",
       "      <td>3.019449</td>\n",
       "      <td>3.901973</td>\n",
       "    </tr>\n",
       "  </tbody>\n",
       "</table>\n",
       "<p>8 rows × 54 columns</p>\n",
       "</div>"
      ],
      "text/plain": [
       "           alanine  creatin.phosphate     creatine     cysteine    glutamine  \\\n",
       "count  1175.000000        1175.000000  1175.000000  1175.000000  1175.000000   \n",
       "mean      2.200851           0.486699     0.609947     0.326707     2.012933   \n",
       "std       1.574011           0.100735     0.100224     0.103958     0.106536   \n",
       "min       0.000000          -0.235722    -0.186330    -0.462035     1.199965   \n",
       "25%       1.000000           0.438255     0.559616     0.277632     1.964311   \n",
       "50%       2.000000           0.500775     0.625938     0.343590     2.029463   \n",
       "75%       4.000000           0.548121     0.678034     0.398776     2.084429   \n",
       "max       4.000000           0.774727     0.802002     0.576613     2.236445   \n",
       "\n",
       "       n.acetylglutamine      proline   tryptophan     tyrosine   isoleucine  \\\n",
       "count        1175.000000  1175.000000  1175.000000  1175.000000  1175.000000   \n",
       "mean            2.205230     2.235861     0.751681     0.965877     2.438908   \n",
       "std             0.066221     0.087299     0.200085     0.100507     0.055249   \n",
       "min             1.656321     1.663926    -0.967584     0.254642     2.047693   \n",
       "25%             2.173615     2.190536     0.662688     0.908259     2.413232   \n",
       "50%             2.218116     2.248129     0.760806     0.978326     2.448416   \n",
       "75%             2.250239     2.296567     0.854415     1.033184     2.474014   \n",
       "max             2.325325     2.411439     1.773256     1.232560     2.624669   \n",
       "\n",
       "       ...  medium.vldl   small.vldl    total.ldl    large.ldl   medium.ldl  \\\n",
       "count  ...  1175.000000  1175.000000  1175.000000  1175.000000  1175.000000   \n",
       "mean   ...     1.848571     3.522179     6.721444     4.857370     5.614471   \n",
       "std    ...     0.866802     0.880322     0.282143     0.294817     0.382567   \n",
       "min    ...    -1.309333     0.476234     5.412851     3.271089    -0.478036   \n",
       "25%    ...     1.293355     2.920200     6.538096     4.669599     5.446672   \n",
       "50%    ...     1.912501     3.565015     6.733771     4.868611     5.637821   \n",
       "75%    ...     2.429657     4.154891     6.918828     5.060663     5.844935   \n",
       "max    ...     4.652912     6.415588     7.745488     5.956096     6.494963   \n",
       "\n",
       "         small.ldl    total.hdl    large.hdl   medium.hdl    small.hdl  \n",
       "count  1175.000000  1175.000000  1175.000000  1175.000000  1175.000000  \n",
       "mean      6.035525     3.411902    -2.085142     2.246138     3.025362  \n",
       "std       0.310968     0.247928     1.016835     0.306921     0.241540  \n",
       "min       4.776094     2.584752    -6.907755     1.018847     2.231089  \n",
       "25%       5.821210     3.240442    -2.302585     2.053481     2.867046  \n",
       "50%       6.045574     3.416414    -1.897120     2.285439     3.025776  \n",
       "75%       6.248942     3.581990    -1.609438     2.460870     3.188417  \n",
       "max       7.347010     4.140910     0.198851     3.019449     3.901973  \n",
       "\n",
       "[8 rows x 54 columns]"
      ]
     },
     "execution_count": 10,
     "metadata": {},
     "output_type": "execute_result"
    }
   ],
   "source": [
    "df.describe()"
   ]
  },
  {
   "cell_type": "code",
   "execution_count": 11,
   "metadata": {},
   "outputs": [],
   "source": [
    "import seaborn as sb"
   ]
  },
  {
   "cell_type": "code",
   "execution_count": 12,
   "metadata": {},
   "outputs": [
    {
     "data": {
      "text/plain": [
       "<seaborn.axisgrid.PairGrid at 0x1c5b6bb6f40>"
      ]
     },
     "execution_count": 12,
     "metadata": {},
     "output_type": "execute_result"
    },
    {
     "data": {
      "image/png": "[encoded data removed]",
      "text/plain": [
       "<Figure size 620.875x576 with 6 Axes>"
      ]
     },
     "metadata": {
      "needs_background": "light"
     },
     "output_type": "display_data"
    }
   ],
   "source": [
    "sb.pairplot(df.dropna(), hue='alanine',height=4,vars=[\"creatine\",\"cysteine\"],kind='scatter')"
   ]
  },
  {
   "cell_type": "markdown",
   "metadata": {},
   "source": [
    "## Creación de variables"
   ]
  },
  {
   "cell_type": "code",
   "execution_count": 13,
   "metadata": {},
   "outputs": [
    {
     "name": "stdout",
     "output_type": "stream",
     "text": [
      "(1175, 53)\n",
      "(1175,)\n"
     ]
    }
   ],
   "source": [
    "X = df.drop(columns = ['alanine'])\n",
    "y = df['alanine']\n",
    "print(X.shape)\n",
    "print(y.shape)"
   ]
  },
  {
   "cell_type": "code",
   "execution_count": 14,
   "metadata": {},
   "outputs": [
    {
     "data": {
      "text/plain": [
       "4    381\n",
       "0    292\n",
       "2    238\n",
       "3    161\n",
       "1    103\n",
       "Name: alanine, dtype: int64"
      ]
     },
     "execution_count": 14,
     "metadata": {},
     "output_type": "execute_result"
    }
   ],
   "source": [
    "y.value_counts()"
   ]
  },
  {
   "cell_type": "markdown",
   "metadata": {},
   "source": [
    "## Creación del conjunto de entrenamiento y de prueba"
   ]
  },
  {
   "cell_type": "code",
   "execution_count": 15,
   "metadata": {},
   "outputs": [],
   "source": [
    "from sklearn.model_selection import train_test_split"
   ]
  },
  {
   "cell_type": "code",
   "execution_count": 16,
   "metadata": {},
   "outputs": [],
   "source": [
    "X_train, X_test, y_train, y_test = train_test_split(X,\n",
    "                                                    y,\n",
    "                                                    train_size = 0.8,\n",
    "                                                    random_state = 42,\n",
    "                                                    shuffle = True\n",
    "                                                   )"
   ]
  },
  {
   "cell_type": "markdown",
   "metadata": {},
   "source": [
    "## Valor óptimo de grupos K"
   ]
  },
  {
   "cell_type": "markdown",
   "metadata": {},
   "source": [
    "Definir ajuste de K medias"
   ]
  },
  {
   "cell_type": "code",
   "execution_count": 17,
   "metadata": {},
   "outputs": [],
   "source": [
    "from sklearn.cluster import KMeans"
   ]
  },
  {
   "cell_type": "code",
   "execution_count": 18,
   "metadata": {},
   "outputs": [],
   "source": [
    "kmedias_k = [KMeans(n_clusters = k, random_state = 3, n_init = 10).fit(X_train) for k in range(2, 26)]"
   ]
  },
  {
   "cell_type": "code",
   "execution_count": 19,
   "metadata": {},
   "outputs": [],
   "source": [
    "inercias = [model.inertia_ for model in kmedias_k]"
   ]
  },
  {
   "cell_type": "code",
   "execution_count": 20,
   "metadata": {},
   "outputs": [
    {
     "data": {
      "text/plain": [
       "[4848.01266123344, 3848.466246240892]"
      ]
     },
     "execution_count": 20,
     "metadata": {},
     "output_type": "execute_result"
    }
   ],
   "source": [
    "inercias[0:2]"
   ]
  },
  {
   "cell_type": "markdown",
   "metadata": {},
   "source": [
    "Representación gráfica"
   ]
  },
  {
   "cell_type": "code",
   "execution_count": 21,
   "metadata": {},
   "outputs": [],
   "source": [
    "import matplotlib.pyplot as plt"
   ]
  },
  {
   "cell_type": "code",
   "execution_count": 22,
   "metadata": {},
   "outputs": [
    {
     "data": {
      "image/png": "[encoded data removed]",
      "text/plain": [
       "<Figure size 720x720 with 1 Axes>"
      ]
     },
     "metadata": {
      "needs_background": "light"
     },
     "output_type": "display_data"
    }
   ],
   "source": [
    "plt.figure(figsize=(10, 10))\n",
    "plt.plot(range(2, 26), inercias, \"bo-\")\n",
    "plt.xlabel(\"Número de clusters\", fontsize=14)\n",
    "plt.ylabel(\"Inercia\", fontsize=14)\n",
    "plt.annotate('Codo',\n",
    "            xy=(4, inercias[3]),\n",
    "            xytext=(0.5, 0.5),\n",
    "            textcoords='figure fraction',\n",
    "            fontsize=16,\n",
    "            arrowprops=dict(facecolor='black', shrink=0.2)\n",
    "            )\n",
    "plt.grid()\n",
    "plt.axis([2, 25, min(inercias), max(inercias)])\n",
    "plt.show()"
   ]
  },
  {
   "cell_type": "markdown",
   "metadata": {},
   "source": [
    "Ajuste de K medias con valor obtenido"
   ]
  },
  {
   "cell_type": "code",
   "execution_count": 23,
   "metadata": {},
   "outputs": [],
   "source": [
    "k = 5"
   ]
  },
  {
   "cell_type": "markdown",
   "metadata": {},
   "source": [
    "Definición del ajuste Kmedias con K obtenido"
   ]
  },
  {
   "cell_type": "code",
   "execution_count": 24,
   "metadata": {},
   "outputs": [],
   "source": [
    "kmedias_k = KMeans(n_clusters = k,random_state = 3, n_init = 10).fit(X_train)"
   ]
  },
  {
   "cell_type": "markdown",
   "metadata": {},
   "source": [
    "Cálculo de las predicciones"
   ]
  },
  {
   "cell_type": "code",
   "execution_count": 25,
   "metadata": {},
   "outputs": [],
   "source": [
    "y_pred = kmedias_k.fit_predict(X_test)"
   ]
  },
  {
   "cell_type": "markdown",
   "metadata": {},
   "source": [
    "Clases del clustering"
   ]
  },
  {
   "cell_type": "code",
   "execution_count": 26,
   "metadata": {},
   "outputs": [
    {
     "data": {
      "text/plain": [
       "{0: 55, 1: 85, 2: 19, 3: 6, 4: 70}"
      ]
     },
     "execution_count": 26,
     "metadata": {},
     "output_type": "execute_result"
    }
   ],
   "source": [
    "unique, counts = np.unique(y_pred, return_counts = True)\n",
    "dict(zip(unique, counts))"
   ]
  },
  {
   "cell_type": "code",
   "execution_count": 27,
   "metadata": {},
   "outputs": [
    {
     "data": {
      "text/plain": [
       "{0: 59, 1: 20, 2: 44, 3: 30, 4: 82}"
      ]
     },
     "execution_count": 27,
     "metadata": {},
     "output_type": "execute_result"
    }
   ],
   "source": [
    "unique, counts = np.unique(y_test, return_counts = True)\n",
    "dict(zip(unique, counts))"
   ]
  },
  {
   "cell_type": "code",
   "execution_count": 28,
   "metadata": {},
   "outputs": [
    {
     "name": "stdout",
     "output_type": "stream",
     "text": [
      "[4 4 2 1]\n"
     ]
    }
   ],
   "source": [
    "print(y_pred[0:4])"
   ]
  },
  {
   "cell_type": "markdown",
   "metadata": {},
   "source": [
    "Clases reales"
   ]
  },
  {
   "cell_type": "code",
   "execution_count": 29,
   "metadata": {},
   "outputs": [
    {
     "name": "stdout",
     "output_type": "stream",
     "text": [
      "661    4\n",
      "427    0\n",
      "192    4\n",
      "209    2\n",
      "Name: alanine, dtype: int32\n"
     ]
    }
   ],
   "source": [
    "print(y_test[0:4])"
   ]
  },
  {
   "cell_type": "markdown",
   "metadata": {},
   "source": [
    "Bondad de ajuste"
   ]
  },
  {
   "cell_type": "code",
   "execution_count": 30,
   "metadata": {},
   "outputs": [],
   "source": [
    "from sklearn.metrics import accuracy_score"
   ]
  },
  {
   "cell_type": "code",
   "execution_count": 31,
   "metadata": {},
   "outputs": [
    {
     "name": "stdout",
     "output_type": "stream",
     "text": [
      "0.3872340425531915\n"
     ]
    }
   ],
   "source": [
    "print(accuracy_score(y_test, y_pred))"
   ]
  },
  {
   "cell_type": "markdown",
   "metadata": {},
   "source": [
    "## K medias score"
   ]
  },
  {
   "cell_type": "markdown",
   "metadata": {},
   "source": [
    "Se obtiene el valor del *score* para cada modelo considerado"
   ]
  },
  {
   "cell_type": "code",
   "execution_count": 32,
   "metadata": {},
   "outputs": [
    {
     "name": "stderr",
     "output_type": "stream",
     "text": [
      "C:\\Users\\jairo\\anaconda3\\lib\\site-packages\\sklearn\\cluster\\_kmeans.py:881: UserWarning: KMeans is known to have a memory leak on Windows with MKL, when there are less chunks than available threads. You can avoid it by setting the environment variable OMP_NUM_THREADS=5.\n",
      "  warnings.warn(\n"
     ]
    }
   ],
   "source": [
    "Nc = range(1, 20)\n",
    "kmeans = [KMeans(n_clusters=i) for i in Nc]\n",
    "score = [kmeans[i].fit(df).score(df) for i in range(len(kmeans))]"
   ]
  },
  {
   "cell_type": "markdown",
   "metadata": {},
   "source": [
    "Representación gráfica"
   ]
  },
  {
   "cell_type": "code",
   "execution_count": 33,
   "metadata": {
    "scrolled": true
   },
   "outputs": [
    {
     "data": {
      "image/png": "[encoded data removed]",
      "text/plain": [
       "<Figure size 720x720 with 1 Axes>"
      ]
     },
     "metadata": {
      "needs_background": "light"
     },
     "output_type": "display_data"
    }
   ],
   "source": [
    "plt.figure(figsize=(10, 10))\n",
    "plt.plot(Nc,score)\n",
    "plt.xlabel('Número de clusters')\n",
    "plt.ylabel('Score')\n",
    "plt.title('Curva del codo')\n",
    "plt.grid()\n",
    "plt.axis([1, 20, min(score), max(score)])\n",
    "plt.show()"
   ]
  },
  {
   "cell_type": "markdown",
   "metadata": {},
   "source": [
    "## Modelo con 5 clusters"
   ]
  },
  {
   "cell_type": "code",
   "execution_count": 34,
   "metadata": {},
   "outputs": [],
   "source": [
    "kmeans = KMeans(n_clusters=5).fit(df)"
   ]
  },
  {
   "cell_type": "markdown",
   "metadata": {},
   "source": [
    "Centroides de cada cluster"
   ]
  },
  {
   "cell_type": "code",
   "execution_count": 35,
   "metadata": {},
   "outputs": [],
   "source": [
    "centroids = kmeans.cluster_centers_"
   ]
  },
  {
   "cell_type": "code",
   "execution_count": 36,
   "metadata": {
    "scrolled": false
   },
   "outputs": [
    {
     "data": {
      "text/plain": [
       "array([ 0.14234875,  0.39434465,  0.51257431,  0.23086316,  1.9076505 ,\n",
       "        2.13534463,  2.14852314,  0.67687564,  0.87806597,  2.3860593 ,\n",
       "        2.23889612,  2.32174295,  3.03816525,  3.67736624,  5.14198692,\n",
       "        4.40249017,  2.53159809,  1.86763852,  2.14951751,  1.10312098,\n",
       "        1.38196597,  3.18467982,  0.47503143,  1.62935975,  2.06810396,\n",
       "        1.95382379,  2.16694632,  1.77164762, -0.38597813,  1.75769061,\n",
       "        2.51169426,  1.69710491,  5.38821653,  3.45481821,  4.76709976,\n",
       "        2.43480746,  3.83202558,  5.39148558,  5.08244027,  3.06485733,\n",
       "        2.6309827 ,  2.91649065,  4.67631311,  1.02078976,  2.76714502,\n",
       "        4.48117983,  6.8400977 ,  4.91093861,  5.62785125,  6.23384716,\n",
       "        3.36475017, -1.88171295,  2.09155434,  3.01991491])"
      ]
     },
     "execution_count": 36,
     "metadata": {},
     "output_type": "execute_result"
    }
   ],
   "source": [
    "centroids[0]"
   ]
  },
  {
   "cell_type": "markdown",
   "metadata": {},
   "source": [
    "Cantidad de elementos por cluster"
   ]
  },
  {
   "cell_type": "code",
   "execution_count": 37,
   "metadata": {
    "scrolled": true
   },
   "outputs": [
    {
     "data": {
      "text/html": [
       "<div>\n",
       "<style scoped>\n",
       "    .dataframe tbody tr th:only-of-type {\n",
       "        vertical-align: middle;\n",
       "    }\n",
       "\n",
       "    .dataframe tbody tr th {\n",
       "        vertical-align: top;\n",
       "    }\n",
       "\n",
       "    .dataframe thead th {\n",
       "        text-align: right;\n",
       "    }\n",
       "</style>\n",
       "<table border=\"1\" class=\"dataframe\">\n",
       "  <thead>\n",
       "    <tr style=\"text-align: right;\">\n",
       "      <th></th>\n",
       "      <th>color</th>\n",
       "      <th>cysteine</th>\n",
       "    </tr>\n",
       "  </thead>\n",
       "  <tbody>\n",
       "    <tr>\n",
       "      <th>0</th>\n",
       "      <td>red</td>\n",
       "      <td>281</td>\n",
       "    </tr>\n",
       "    <tr>\n",
       "      <th>1</th>\n",
       "      <td>green</td>\n",
       "      <td>375</td>\n",
       "    </tr>\n",
       "    <tr>\n",
       "      <th>2</th>\n",
       "      <td>blue</td>\n",
       "      <td>349</td>\n",
       "    </tr>\n",
       "    <tr>\n",
       "      <th>3</th>\n",
       "      <td>cyan</td>\n",
       "      <td>25</td>\n",
       "    </tr>\n",
       "    <tr>\n",
       "      <th>4</th>\n",
       "      <td>yellow</td>\n",
       "      <td>145</td>\n",
       "    </tr>\n",
       "  </tbody>\n",
       "</table>\n",
       "</div>"
      ],
      "text/plain": [
       "    color  cysteine\n",
       "0     red       281\n",
       "1   green       375\n",
       "2    blue       349\n",
       "3    cyan        25\n",
       "4  yellow       145"
      ]
     },
     "execution_count": 37,
     "metadata": {},
     "output_type": "execute_result"
    }
   ],
   "source": [
    "copy =  pd.DataFrame()\n",
    "copy['creatine']=df['creatine'].values\n",
    "copy['alanine']=df['alanine'].values\n",
    "copy['label'] = kmeans.predict(df);\n",
    "cantidadGrupo =  pd.DataFrame()\n",
    "cantidadGrupo['color']=['red','green','blue','cyan','yellow']\n",
    "cantidadGrupo['cysteine']=copy.groupby('label').size()\n",
    "cantidadGrupo"
   ]
  },
  {
   "cell_type": "markdown",
   "metadata": {},
   "source": [
    "Se muestra el representante del cada grupo, es decir, el usuario cercano a su centroide"
   ]
  },
  {
   "cell_type": "code",
   "execution_count": 38,
   "metadata": {},
   "outputs": [],
   "source": [
    "from sklearn.metrics import pairwise_distances_argmin_min"
   ]
  },
  {
   "cell_type": "code",
   "execution_count": 39,
   "metadata": {},
   "outputs": [
    {
     "data": {
      "text/plain": [
       "array([835, 254, 546, 234, 846], dtype=int64)"
      ]
     },
     "execution_count": 39,
     "metadata": {},
     "output_type": "execute_result"
    }
   ],
   "source": [
    "closest, _ = pairwise_distances_argmin_min(kmeans.cluster_centers_, df)\n",
    "closest"
   ]
  },
  {
   "cell_type": "markdown",
   "metadata": {},
   "source": [
    "Se muestra el valor de *alanine* para los representantes de cada clase"
   ]
  },
  {
   "cell_type": "code",
   "execution_count": 40,
   "metadata": {
    "scrolled": false
   },
   "outputs": [
    {
     "name": "stdout",
     "output_type": "stream",
     "text": [
      "0\n",
      "2\n",
      "4\n",
      "0\n",
      "4\n"
     ]
    }
   ],
   "source": [
    "users=df['alanine'].values\n",
    "for row in closest:\n",
    "    print(users[row])"
   ]
  },
  {
   "cell_type": "markdown",
   "metadata": {},
   "source": [
    "Méritos por la creación del dataset a quien corresponda."
   ]
  },
  {
   "cell_type": "markdown",
   "metadata": {},
   "source": [
    "Elaborado por Jairo Rojas"
   ]
  }
 ],
 "metadata": {
  "kernelspec": {
   "display_name": "Python 3",
   "language": "python",
   "name": "python3"
  },
  "language_info": {
   "codemirror_mode": {
    "name": "ipython",
    "version": 3
   },
   "file_extension": ".py",
   "mimetype": "text/x-python",
   "name": "python",
   "nbconvert_exporter": "python",
   "pygments_lexer": "ipython3",
   "version": "3.8.8"
  }
 },
 "nbformat": 4,
 "nbformat_minor": 4
}
